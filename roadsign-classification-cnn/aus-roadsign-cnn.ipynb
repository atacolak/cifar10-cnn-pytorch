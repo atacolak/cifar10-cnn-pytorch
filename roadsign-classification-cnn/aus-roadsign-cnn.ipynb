{
 "cells": [
  {
   "cell_type": "markdown",
   "metadata": {
    "id": "Tw6izu7SpXnm"
   },
   "source": [
    "# Problem Definition\n",
    "\n",
    "The image classification problem is _Road Sign Classification_, which aims to classify images of road signs into **five** different categories:\n",
    "\n",
    "    Keep Left\n",
    "    No Left Turn\n",
    "    No Right Turn\n",
    "    Pedestrian Crossing\n",
    "    Speed Limit\n",
    "\n",
    "The dataset is already collected, and we have 3826 images for training, 388 images for validation, and 185 images for testing.\n",
    "\n",
    "### Preprocessing:\n",
    "Finding an appropriate dataset was a challenge. After extensive searching, I [discovered a dataset on Roboflow](https://universe.roboflow.com/elec5308-w8jl5/australia-traffic-sign), which contains images captured from a YouTube video of driving in Melbourne. The dataset was modified to suit my needs:\n",
    "\n",
    "    Object Isolation: As the original data contained entire street views, I isolated the relevant road signs to create clean, focused images for classification.\n",
    "    Null Value Removal: All incomplete or irrelevant data entries were removed for data quality.\n",
    "\n",
    "Theoretical and practical challenges:\n",
    "\n",
    "    Variability in image quality, lighting, and background;\n",
    "    > The dataset consists of screenshots from a video, leading to variations in lighting, sharpness, and resolution.\n",
    "    Similarity between some road signs (No Left Turn and No Right Turn);\n",
    "    > No Left Turn\" and \"No Right Turn\" signs are similar visually, so it might be difficult to differentiate. In my previous training attempts, I have tried to use horizontally flipped versions of No Left Turn as training data for No Right Turn, and it ended up with my model incorrectly classifying the labels more than half of the time for either features.\n",
    "\n",
    "    Class imbalance;\n",
    "    Computational budget limitations (should not be an issue as I am using a small dataset).\n",
    "\n",
    "Desired inputs/outputs:\n",
    "\n",
    "    Input: Image of a road sign\n",
    "    Output: Class label of the road sign (one of five categories)\n",
    "\n",
    "Target classes:\n",
    "\n",
    "    Binary classification:\n",
    "        Keep Left (0 or 1)\n",
    "        No Left Turn (0 or 1)\n",
    "        No Right Turn (0 or 1)\n",
    "        Pedestrian Crossing (0 or 1)\n",
    "        Speed Limit (0 or 1)\n",
    "\n",
    "Each image can only belong to one class, making this a **multi-class classification** problem.\n",
    "\n",
    "# Plan\n",
    "\n",
    "    Dataset:\n",
    "      Number of images:\n",
    "        Training: 3826\n",
    "        Testing: 185\n",
    "        Validation: 388\n",
    "\n",
    "        (80-10-10 split)\n",
    "\n",
    "    Image labeling: The images are already labeled with their corresponding class labels.\n",
    "\n",
    "    Model evaluation:\n",
    "        Accuracy (overall accuracy and per-class accuracy)\n",
    "        Precision (overall and per-class)\n",
    "        Recall (overall and per-class)\n",
    "        F1-score (overall and per-class)\n",
    "\n",
    "\n",
    "# Solution\n",
    "\n",
    "### **Data Preprocessing**\n",
    "\n",
    "    Image Resizing:\n",
    "    Images have been resized to 224x224 pixels to ensure consistency in input shape.\n",
    "\n",
    "    Normalization:\n",
    "    Initially, I used the mean and standard deviation from the ImageNet dataset for normalization.\n",
    "    However, I have decided to compute the mean and standard deviation from my own dataset to make the solution more self-contained.\n",
    "    This ensures the normalization is fully based on the distribution of my data:\n",
    "\n",
    "\n",
    "        Mean: [0.47709652 0.44380783 0.43589283]\n",
    "        Standard Deviation: [0.1366686  0.14250443 0.1436675 ]\n",
    "\n",
    "    Class Balancing: Although class imbalance was identified as a potential issue, no undersampling or oversampling was applied in the final implementation. The dataset has been used as-is for training, validation, and testing.\n",
    "\n",
    "### **Model Design**\n",
    "\n",
    "My Convolutional Neural Network (CNN) architecture is as follows:\n",
    "\n",
    "    3 Convolutional Layers: Each followed by ReLU activation and max pooling;\n",
    "\n",
    "    2 Fully Connected Layers: The first layer reduced the dimensionality of the feature maps, and the second layer produced the final class predictions;\n",
    "\n",
    "    Activation Functions: ReLU was used for non-linear activation, and the final layer used Softmax for multi-class classification.\n",
    "\n",
    "### **Model Training**\n",
    "\n",
    "The model was trained for 12 epochs with a batch size of 32. I used the **Adam optimizer** with a learning rate of **0.001** and **CrossEntropyLoss** as my loss function:\n",
    "\n",
    "```\n",
    "Epoch 1, Loss: 0.997\n",
    "Epoch 2, Loss: 0.536\n",
    "Epoch 3, Loss: 0.457\n",
    "Epoch 4, Loss: 0.378\n",
    "Epoch 5, Loss: 0.273\n",
    "Epoch 6, Loss: 0.206\n",
    "Epoch 7, Loss: 0.177\n",
    "Epoch 8, Loss: 0.143\n",
    "Epoch 9, Loss: 0.124\n",
    "Epoch 10, Loss: 0.094\n",
    "Epoch 11, Loss: 0.121\n",
    "Epoch 12, Loss: 0.084\n",
    "Model saved successfully.\n",
    "```\n",
    "\n",
    "### **Model Testing**\n",
    "\n",
    "The model has been tested on the test dataset (185 images), and the following metrics were obtained:\n",
    "\n",
    "    Test Loss: 0.44\n",
    "    Average Test Accuracy: 86.98%\n",
    "    Overall Accuracy: 87.50%\n",
    "    Overall Precision: 89.84%\n",
    "    Overall Recall: 82.66%\n",
    "    Overall F1-Score: 85.15%\n",
    "\n",
    "### **Class Metrics:**\n",
    "\n",
    "    Keep Left:\n",
    "        Precision: 100.00%\n",
    "        Recall: 85.19%\n",
    "        F1-Score: 92.00%\n",
    "\n",
    "    No Left Turn:\n",
    "        Precision: 85.71%\n",
    "        Recall: 78.26%\n",
    "        F1-Score: 81.82%\n",
    "\n",
    "    No Right Turn:\n",
    "       Precision: 73.81%\n",
    "       Recall: 91.18%\n",
    "       F1-Score: 81.58%\n",
    "\n",
    "    Pedestrian Crossing:\n",
    "       Precision: 100.00%\n",
    "       Recall: 64.71%\n",
    "       F1-Score: 78.57%\n",
    "\n",
    "    Speed Limit:\n",
    "       Precision: 89.66%\n",
    "       Recall: 93.98%\n",
    "       F1-Score: 91.76%\n",
    "\n",
    "I have created a **confusion matrix** to visualize the model's performance across different classes to highlight areas where the model occasionally confused similar signs, such as **\"No Left Turn\"** and **\"No Right Turn.\"**\n",
    "\n",
    "\n"
   ]
  },
  {
   "cell_type": "code",
   "execution_count": 1,
   "metadata": {
    "id": "zOEIMl5Rsqxv"
   },
   "outputs": [],
   "source": [
    "import torch\n",
    "import torch.nn as nn\n",
    "import torch.optim as optim\n",
    "from torch.utils.data import Dataset, DataLoader\n",
    "import torchvision\n",
    "import torchvision.transforms as transforms\n",
    "import os\n",
    "import pandas as pd\n",
    "import numpy as np\n",
    "from PIL import Image\n",
    "from sklearn.metrics import confusion_matrix\n",
    "import matplotlib.pyplot as plt\n",
    "import seaborn as sns\n",
    "import shutil"
   ]
  },
  {
   "cell_type": "code",
   "execution_count": 2,
   "metadata": {
    "colab": {
     "base_uri": "https://localhost:8080/",
     "height": 0
    },
    "id": "IRdf5m9uoHnd",
    "outputId": "050ed65f-10bb-470a-be3a-fef40ecb70c6"
   },
   "outputs": [
    {
     "name": "stdout",
     "output_type": "stream",
     "text": [
      "Collecting roboflow\n",
      "  Downloading roboflow-1.1.45-py3-none-any.whl.metadata (9.7 kB)\n",
      "Requirement already satisfied: certifi in /usr/local/lib/python3.10/dist-packages (from roboflow) (2024.8.30)\n",
      "Collecting idna==3.7 (from roboflow)\n",
      "  Downloading idna-3.7-py3-none-any.whl.metadata (9.9 kB)\n",
      "Requirement already satisfied: cycler in /usr/local/lib/python3.10/dist-packages (from roboflow) (0.12.1)\n",
      "Requirement already satisfied: kiwisolver>=1.3.1 in /usr/local/lib/python3.10/dist-packages (from roboflow) (1.4.7)\n",
      "Requirement already satisfied: matplotlib in /usr/local/lib/python3.10/dist-packages (from roboflow) (3.7.1)\n",
      "Requirement already satisfied: numpy>=1.18.5 in /usr/local/lib/python3.10/dist-packages (from roboflow) (1.26.4)\n",
      "Requirement already satisfied: opencv-python-headless==4.10.0.84 in /usr/local/lib/python3.10/dist-packages (from roboflow) (4.10.0.84)\n",
      "Requirement already satisfied: Pillow>=7.1.2 in /usr/local/lib/python3.10/dist-packages (from roboflow) (10.4.0)\n",
      "Requirement already satisfied: python-dateutil in /usr/local/lib/python3.10/dist-packages (from roboflow) (2.8.2)\n",
      "Collecting python-dotenv (from roboflow)\n",
      "  Downloading python_dotenv-1.0.1-py3-none-any.whl.metadata (23 kB)\n",
      "Requirement already satisfied: requests in /usr/local/lib/python3.10/dist-packages (from roboflow) (2.32.3)\n",
      "Requirement already satisfied: six in /usr/local/lib/python3.10/dist-packages (from roboflow) (1.16.0)\n",
      "Requirement already satisfied: urllib3>=1.26.6 in /usr/local/lib/python3.10/dist-packages (from roboflow) (2.0.7)\n",
      "Requirement already satisfied: tqdm>=4.41.0 in /usr/local/lib/python3.10/dist-packages (from roboflow) (4.66.5)\n",
      "Requirement already satisfied: PyYAML>=5.3.1 in /usr/local/lib/python3.10/dist-packages (from roboflow) (6.0.2)\n",
      "Collecting requests-toolbelt (from roboflow)\n",
      "  Downloading requests_toolbelt-1.0.0-py2.py3-none-any.whl.metadata (14 kB)\n",
      "Collecting filetype (from roboflow)\n",
      "  Downloading filetype-1.2.0-py2.py3-none-any.whl.metadata (6.5 kB)\n",
      "Requirement already satisfied: contourpy>=1.0.1 in /usr/local/lib/python3.10/dist-packages (from matplotlib->roboflow) (1.3.0)\n",
      "Requirement already satisfied: fonttools>=4.22.0 in /usr/local/lib/python3.10/dist-packages (from matplotlib->roboflow) (4.53.1)\n",
      "Requirement already satisfied: packaging>=20.0 in /usr/local/lib/python3.10/dist-packages (from matplotlib->roboflow) (24.1)\n",
      "Requirement already satisfied: pyparsing>=2.3.1 in /usr/local/lib/python3.10/dist-packages (from matplotlib->roboflow) (3.1.4)\n",
      "Requirement already satisfied: charset-normalizer<4,>=2 in /usr/local/lib/python3.10/dist-packages (from requests->roboflow) (3.3.2)\n",
      "Downloading roboflow-1.1.45-py3-none-any.whl (80 kB)\n",
      "\u001b[2K   \u001b[90m━━━━━━━━━━━━━━━━━━━━━━━━━━━━━━━━━━━━━━━━\u001b[0m \u001b[32m80.3/80.3 kB\u001b[0m \u001b[31m4.7 MB/s\u001b[0m eta \u001b[36m0:00:00\u001b[0m\n",
      "\u001b[?25hDownloading idna-3.7-py3-none-any.whl (66 kB)\n",
      "\u001b[2K   \u001b[90m━━━━━━━━━━━━━━━━━━━━━━━━━━━━━━━━━━━━━━━━\u001b[0m \u001b[32m66.8/66.8 kB\u001b[0m \u001b[31m4.6 MB/s\u001b[0m eta \u001b[36m0:00:00\u001b[0m\n",
      "\u001b[?25hDownloading filetype-1.2.0-py2.py3-none-any.whl (19 kB)\n",
      "Downloading python_dotenv-1.0.1-py3-none-any.whl (19 kB)\n",
      "Downloading requests_toolbelt-1.0.0-py2.py3-none-any.whl (54 kB)\n",
      "\u001b[2K   \u001b[90m━━━━━━━━━━━━━━━━━━━━━━━━━━━━━━━━━━━━━━━━\u001b[0m \u001b[32m54.5/54.5 kB\u001b[0m \u001b[31m3.7 MB/s\u001b[0m eta \u001b[36m0:00:00\u001b[0m\n",
      "\u001b[?25hInstalling collected packages: filetype, python-dotenv, idna, requests-toolbelt, roboflow\n",
      "  Attempting uninstall: idna\n",
      "    Found existing installation: idna 3.10\n",
      "    Uninstalling idna-3.10:\n",
      "      Successfully uninstalled idna-3.10\n",
      "Successfully installed filetype-1.2.0 idna-3.7 python-dotenv-1.0.1 requests-toolbelt-1.0.0 roboflow-1.1.45\n",
      "loading Roboflow workspace...\n",
      "loading Roboflow project...\n"
     ]
    },
    {
     "name": "stderr",
     "output_type": "stream",
     "text": [
      "Downloading Dataset Version Zip in AUS-road-sign-Small-1 to multiclass:: 100%|██████████| 4817/4817 [00:01<00:00, 2647.70it/s]"
     ]
    },
    {
     "name": "stdout",
     "output_type": "stream",
     "text": [
      "\n"
     ]
    },
    {
     "name": "stderr",
     "output_type": "stream",
     "text": [
      "\n",
      "Extracting Dataset Version Zip to AUS-road-sign-Small-1 in multiclass:: 100%|██████████| 4404/4404 [00:01<00:00, 3597.65it/s]\n"
     ]
    }
   ],
   "source": [
    "!pip install roboflow\n",
    "\n",
    "from roboflow import Roboflow\n",
    "rf = Roboflow(api_key=\"HLRTvemhfGL4kjXPoTsy\")\n",
    "project = rf.workspace(\"sit319ass2\").project(\"aus-road-sign-small-hptnx\")\n",
    "version = project.version(1)\n",
    "dataset = version.download(\"multiclass\")"
   ]
  },
  {
   "cell_type": "code",
   "execution_count": 3,
   "metadata": {
    "colab": {
     "base_uri": "https://localhost:8080/",
     "height": 2853
    },
    "id": "3Zcau8vJtdaV",
    "outputId": "36695e36-79d8-45ba-dbc1-20a4321f85c4"
   },
   "outputs": [
    {
     "name": "stdout",
     "output_type": "stream",
     "text": [
      "Number of images in train folder: 3825\n",
      "\n",
      "Class distribution:\n",
      " Keep Left               618\n",
      " No Left Turn            366\n",
      " No Right Turn           774\n",
      " Pedestrian Crossing     279\n",
      " Speed Limit            1788\n",
      "dtype: int64\n"
     ]
    },
    {
     "data": {
      "image/png": "[encoded data removed]",
      "text/plain": [
       "<Figure size 640x480 with 1 Axes>"
      ]
     },
     "metadata": {},
     "output_type": "display_data"
    },
    {
     "name": "stdout",
     "output_type": "stream",
     "text": [
      "\n",
      "Displaying one image from each class:\n"
     ]
    },
    {
     "data": {
      "image/png": "[encoded data removed]",
      "text/plain": [
       "<Figure size 640x480 with 1 Axes>"
      ]
     },
     "metadata": {},
     "output_type": "display_data"
    },
    {
     "data": {
      "image/png": "[encoded data removed]",
      "text/plain": [
       "<Figure size 640x480 with 1 Axes>"
      ]
     },
     "metadata": {},
     "output_type": "display_data"
    },
    {
     "data": {
      "image/png": "[encoded data removed]",
      "text/plain": [
       "<Figure size 640x480 with 1 Axes>"
      ]
     },
     "metadata": {},
     "output_type": "display_data"
    },
    {
     "data": {
      "image/png": "[encoded data removed]",
      "text/plain": [
       "<Figure size 640x480 with 1 Axes>"
      ]
     },
     "metadata": {},
     "output_type": "display_data"
    },
    {
     "data": {
      "image/png": "[encoded data removed]",
      "text/plain": [
       "<Figure size 640x480 with 1 Axes>"
      ]
     },
     "metadata": {},
     "output_type": "display_data"
    }
   ],
   "source": [
    "import os\n",
    "import pandas as pd\n",
    "import matplotlib.pyplot as plt\n",
    "from PIL import Image\n",
    "\n",
    "def display_image(image_path, title): #display imgs in plot\n",
    "    image = Image.open(image_path)\n",
    "    plt.imshow(image)\n",
    "    plt.title(title)\n",
    "    plt.axis('off')\n",
    "    plt.show()\n",
    "\n",
    "data_dir = '/content/AUS-road-sign-Small-1'\n",
    "train_dir = os.path.join(data_dir, 'train')\n",
    "train_csv = os.path.join(train_dir, '_classes.csv')\n",
    "\n",
    "train_df = pd.read_csv(train_csv)\n",
    "\n",
    "print(f\"Number of images in train folder: {len(os.listdir(train_dir)) - 1}\")#exclude csv\n",
    "\n",
    "class_counts = train_df.iloc[:, 1:].sum()\n",
    "print(\"\\nClass distribution:\")\n",
    "print(class_counts)\n",
    "\n",
    "class_counts.plot(kind='bar')\n",
    "plt.title('Class Distribution')\n",
    "plt.xlabel('Class')\n",
    "plt.ylabel('Count')\n",
    "plt.show()\n",
    "\n",
    "print(\"\\nDisplaying one image from each class:\")\n",
    "for class_name in train_df.columns[1:]:\n",
    "        #one image per class\n",
    "    class_images = train_df[train_df[class_name] == 1][\"filename\"]\n",
    "    if not class_images.empty:\n",
    "        image_file = class_images.iloc[0]\n",
    "        image_path = os.path.join(train_dir, image_file)\n",
    "        display_image(image_path, f\"Example of {class_name}\")\n",
    "    else:\n",
    "        print(f\"No images found for class {class_name}\")\n"
   ]
  },
  {
   "cell_type": "code",
   "execution_count": 4,
   "metadata": {
    "id": "MoBhH5DVslvN"
   },
   "outputs": [],
   "source": [
    "device = torch.device(\"cuda:0\" if torch.cuda.is_available() else \"cpu\")\n",
    "\n",
    "class RoadSignDataset(Dataset):\n",
    "    def __init__(self, df, image_dir, transform=None):\n",
    "        self.df = df\n",
    "        self.image_dir = image_dir\n",
    "        self.transform = transform\n",
    "\n",
    "    def __len__(self):\n",
    "        return len(self.df)\n",
    "\n",
    "    def __getitem__(self, index):\n",
    "        image_path = os.path.join(self.image_dir, self.df.iloc[index, 0])\n",
    "        image = Image.open(image_path)\n",
    "        if self.transform:\n",
    "            image = self.transform(image)#apply transform\n",
    "\n",
    "        label = torch.tensor(self.df.iloc[index, 1:].values.astype(np.float32))\n",
    "        return image, label"
   ]
  },
  {
   "cell_type": "code",
   "execution_count": 5,
   "metadata": {
    "colab": {
     "base_uri": "https://localhost:8080/",
     "height": 0
    },
    "id": "YATT75UuzB0g",
    "outputId": "21604d87-932c-4eb2-8ed5-09b90ebb3d14"
   },
   "outputs": [
    {
     "name": "stdout",
     "output_type": "stream",
     "text": [
      "Dataset Mean: [0.47709652 0.44380783 0.43589283]\n",
      "Dataset Std: [0.1366686  0.14250443 0.1436675 ]\n"
     ]
    }
   ],
   "source": [
    "num_images = 0\n",
    "mean = np.zeros(3)\n",
    "std = np.zeros(3)\n",
    "\n",
    "#loop over all images\n",
    "for image_name in os.listdir(train_dir):\n",
    "    if image_name.endswith(\".jpg\"):\n",
    "        image_path = os.path.join(train_dir, image_name)\n",
    "        image = Image.open(image_path)\n",
    "        image = np.array(image) / 255.0  #normalize [0,1] pixel values\n",
    "\n",
    "        if len(image.shape) == 3:  #if RGB\n",
    "            mean += image.mean(axis=(0, 1))\n",
    "            std += image.std(axis=(0, 1))\n",
    "            num_images += 1\n",
    "\n",
    "mean /= num_images #compute final mean & std\n",
    "std /= num_images\n",
    "\n",
    "print(f\"Dataset Mean: {mean}\")\n",
    "print(f\"Dataset Std: {std}\")\n"
   ]
  },
  {
   "cell_type": "code",
   "execution_count": 6,
   "metadata": {
    "id": "omdwMU9GzPUT"
   },
   "outputs": [],
   "source": [
    "train_df = pd.read_csv('/content/AUS-road-sign-Small-1/train/_classes.csv')\n",
    "train_image_dir = '/content/AUS-road-sign-Small-1/train'\n",
    "\n",
    "train_transform = transforms.Compose([\n",
    "    transforms.Resize((224, 224)),\n",
    "    transforms.ToTensor(),\n",
    "    transforms.Normalize(mean=[0.47709652, 0.44380783, 0.43589283], std=[0.1366686, 0.14250443, 0.1436675])\n",
    "])\n",
    "\n",
    "train_dataset = RoadSignDataset(train_df, train_image_dir, train_transform)\n",
    "\n",
    "#data loader for training dataset\n",
    "train_loader = DataLoader(train_dataset, batch_size=32, shuffle=True)"
   ]
  },
  {
   "cell_type": "code",
   "execution_count": 7,
   "metadata": {
    "colab": {
     "base_uri": "https://localhost:8080/",
     "height": 0
    },
    "id": "Ctq_n1w0oP6Z",
    "outputId": "fb66eb1e-6f09-4cd0-ae1c-739fbb3e6539"
   },
   "outputs": [
    {
     "name": "stdout",
     "output_type": "stream",
     "text": [
      "Epoch 1, Loss: 0.964\n",
      "Epoch 2, Loss: 0.520\n",
      "Epoch 3, Loss: 0.389\n",
      "Epoch 4, Loss: 0.310\n",
      "Epoch 5, Loss: 0.246\n",
      "Epoch 6, Loss: 0.214\n",
      "Epoch 7, Loss: 0.176\n",
      "Epoch 8, Loss: 0.118\n",
      "Epoch 9, Loss: 0.122\n",
      "Epoch 10, Loss: 0.082\n",
      "Epoch 11, Loss: 0.070\n",
      "Epoch 12, Loss: 0.153\n",
      "Model saved successfully.\n"
     ]
    }
   ],
   "source": [
    "\n",
    "class ScratchCNN(nn.Module):\n",
    "    def __init__(self):\n",
    "        super(ScratchCNN, self).__init__()\n",
    "        # 1st convlayer: 3 input channel (RGB), 32 output channel, 3x3 kernel\n",
    "        self.conv1 = nn.Conv2d(3, 32, kernel_size=3, padding=1)\n",
    "        self.pool = nn.MaxPool2d(2, 2)  # 2x2 max pool\n",
    "        # 2nd convlayer: 32 input channel, 64 output channel, 3x3 kernel\n",
    "        self.conv2 = nn.Conv2d(32, 64, kernel_size=3, padding=1)\n",
    "        # 3rd convlayer: 64 input channel, 128 output channel, 3x3 kernel\n",
    "        self.conv3 = nn.Conv2d(64, 128, kernel_size=3, padding=1)\n",
    "        #fc layers below:\n",
    "        self.fc1 = nn.Linear(128 * 28 * 28, 256)\n",
    "        self.fc2 = nn.Linear(256, 5)#5 classes as output\n",
    "\n",
    "    def forward(self, x):\n",
    "        #Conv+pool layers w/ ReLU\n",
    "        x = self.pool(torch.relu(self.conv1(x)))  # conv+pool layer 1\n",
    "        x = self.pool(torch.relu(self.conv2(x)))  #conv+pool layer 2\n",
    "        x = self.pool(torch.relu(self.conv3(x)))  # conv+pool layer 3\n",
    "        x = x.view(-1, 128 * 28 * 28)  # flatten\n",
    "        x = torch.relu(self.fc1(x))  # FC 1\n",
    "        x = self.fc2(x)  # output layer\n",
    "        return x\n",
    "\n",
    "#init model, loss function, optimizer;\n",
    "device = torch.device('cuda' if torch.cuda.is_available() else 'cpu')\n",
    "model = ScratchCNN().to(device)\n",
    "criterion = nn.CrossEntropyLoss()\n",
    "optimizer = optim.Adam(model.parameters(), lr=0.001)\n",
    "\n",
    "#train model\n",
    "for epoch in range(12):\n",
    "    running_loss = 0.0\n",
    "    for i, data in enumerate(train_loader, 0):\n",
    "        inputs, labels = data[0].to(device), data[1].to(device)\n",
    "        optimizer.zero_grad()\n",
    "        outputs = model(inputs)\n",
    "        loss = criterion(outputs, labels.argmax(dim=1))#class indices for crossEntropyLoss\n",
    "        loss.backward()\n",
    "        optimizer.step()\n",
    "        running_loss += loss.item()\n",
    "    print('Epoch %d, Loss: %.3f' % (epoch+1, running_loss/(i+1)))\n",
    "\n",
    "#save model\n",
    "torch.save(model.state_dict(), 'roadsign_model.pth')\n",
    "print('Model saved successfully.')\n"
   ]
  },
  {
   "cell_type": "code",
   "execution_count": 8,
   "metadata": {
    "colab": {
     "base_uri": "https://localhost:8080/",
     "height": 0
    },
    "id": "8RB4YiBHoqw3",
    "outputId": "350e5d82-9e86-423a-8df4-2aeb01846e00"
   },
   "outputs": [
    {
     "name": "stdout",
     "output_type": "stream",
     "text": [
      "Model loaded successfully.\n"
     ]
    },
    {
     "name": "stderr",
     "output_type": "stream",
     "text": [
      "You are using `torch.load` with `weights_only=False` (the current default value), which uses the default pickle module implicitly. It is possible to construct malicious pickle data which will execute arbitrary code during unpickling (See https://github.com/pytorch/pytorch/blob/main/SECURITY.md#untrusted-models for more details). In a future release, the default value for `weights_only` will be flipped to `True`. This limits the functions that could be executed during unpickling. Arbitrary objects will no longer be allowed to be loaded via this mode unless they are explicitly allowlisted by the user via `torch.serialization.add_safe_globals`. We recommend you start setting `weights_only=True` for any use case where you don't have full control of the loaded file. Please open an issue on GitHub for any issues related to this experimental feature.\n"
     ]
    }
   ],
   "source": [
    "#load model\n",
    "model = ScratchCNN().to(device)\n",
    "model.load_state_dict(torch.load('roadsign_model.pth', map_location=device))\n",
    "model.eval()  #set model to eval mode\n",
    "print('Model loaded successfully.')"
   ]
  },
  {
   "cell_type": "code",
   "execution_count": 9,
   "metadata": {
    "id": "ovvLHsPvFBWi"
   },
   "outputs": [],
   "source": [
    "#load test dataset\n",
    "test_df = pd.read_csv('/content/AUS-road-sign-Small-1/test/_classes.csv')\n",
    "test_image_dir = '/content/AUS-road-sign-Small-1/test'\n",
    "\n",
    "test_transform = transforms.Compose([\n",
    "    transforms.Resize((224, 224)),\n",
    "    transforms.ToTensor(),\n",
    "    transforms.Normalize(mean=[0.47709652, 0.44380783, 0.43589283], std=[0.1366686, 0.14250443, 0.1436675])\n",
    "])\n",
    "\n",
    "test_dataset = RoadSignDataset(test_df, test_image_dir, test_transform)\n",
    "\n",
    "# create loader for test dataset\n",
    "test_loader = DataLoader(test_dataset, batch_size=32, shuffle=False)"
   ]
  },
  {
   "cell_type": "code",
   "execution_count": 11,
   "metadata": {
    "colab": {
     "base_uri": "https://localhost:8080/",
     "height": 0
    },
    "id": "ej8exqEAorwz",
    "outputId": "22b7b1c8-faa9-4bdc-f4e7-7ad50d0a7401"
   },
   "outputs": [
    {
     "name": "stdout",
     "output_type": "stream",
     "text": [
      "Test Loss: 0.42\n",
      "Average Test Accuracy: 93.40%\n",
      "Overall Accuracy: 93.48%\n",
      "Overall Precision: 94.56%\n",
      "Overall Recall: 91.66%\n",
      "Overall F1-Score: 92.98%\n",
      "\n",
      "Class:  Keep Left\n",
      "  Precision: 100.00%\n",
      "  Recall: 92.59%\n",
      "  F1-Score: 96.15%\n",
      "\n",
      "Class:  No Left Turn\n",
      "  Precision: 90.91%\n",
      "  Recall: 86.96%\n",
      "  F1-Score: 88.89%\n",
      "\n",
      "Class:  No Right Turn\n",
      "  Precision: 88.89%\n",
      "  Recall: 94.12%\n",
      "  F1-Score: 91.43%\n",
      "\n",
      "Class:  Pedestrian Crossing\n",
      "  Precision: 100.00%\n",
      "  Recall: 88.24%\n",
      "  F1-Score: 93.75%\n",
      "\n",
      "Class:  Speed Limit\n",
      "  Precision: 93.02%\n",
      "  Recall: 96.39%\n",
      "  F1-Score: 94.67%\n"
     ]
    }
   ],
   "source": [
    "from sklearn.metrics import accuracy_score, precision_score, recall_score, f1_score\n",
    "\n",
    "#functions to calculate metrics\n",
    "def calculate_accuracy(outputs, labels):\n",
    "    _, predicted = torch.max(outputs, 1)\n",
    "    correct = (predicted == labels.argmax(1)).sum().item()\n",
    "    accuracy = correct / labels.shape[0]\n",
    "    return accuracy\n",
    "\n",
    "def calculate_mse(outputs, labels):\n",
    "    return ((outputs - labels) ** 2).sum(dim=1).mean().item()\n",
    "\n",
    "#test model on test set\n",
    "model.eval()\n",
    "test_loss = 0\n",
    "test_accuracy = 0\n",
    "correct_labels = []\n",
    "predicted_labels = []\n",
    "\n",
    "with torch.no_grad():\n",
    "    for i, data in enumerate(test_loader, 0):\n",
    "        inputs, labels = data[0].to(device), data[1].to(device)\n",
    "        outputs = model(inputs)\n",
    "        loss = criterion(outputs, labels)\n",
    "        test_loss += loss.item()\n",
    "        test_accuracy += calculate_accuracy(outputs, labels)\n",
    "        _, predicted = torch.max(outputs, 1)\n",
    "        predicted_labels.extend(predicted.cpu().numpy())\n",
    "        correct_labels.extend(labels.argmax(1).cpu().numpy())\n",
    "\n",
    "#calculate avg accuracy & loss\n",
    "average_test_loss = test_loss / len(test_loader)\n",
    "average_test_accuracy = test_accuracy / len(test_loader)\n",
    "\n",
    "#calculate MSE for EACH class\n",
    "model.eval()\n",
    "mse_values = []\n",
    "with torch.no_grad():\n",
    "    for i, data in enumerate(test_loader, 0):\n",
    "        inputs, labels = data[0].to(device), data[1].to(device)\n",
    "        outputs = model(inputs)\n",
    "        mse = calculate_mse(outputs, labels)\n",
    "        mse_values.append(mse)\n",
    "\n",
    "#overall metrics\n",
    "accuracy = accuracy_score(correct_labels, predicted_labels)\n",
    "precision = precision_score(correct_labels, predicted_labels, average='macro')\n",
    "recall = recall_score(correct_labels, predicted_labels, average='macro')\n",
    "f1 = f1_score(correct_labels, predicted_labels, average='macro')\n",
    "\n",
    "#class metrics\n",
    "class_precision = precision_score(correct_labels, predicted_labels, average=None)\n",
    "class_recall = recall_score(correct_labels, predicted_labels, average=None)\n",
    "class_f1 = f1_score(correct_labels, predicted_labels, average=None)\n",
    "\n",
    "print(f'Test Loss: {average_test_loss:.2f}')\n",
    "print(f'Average Test Accuracy: {average_test_accuracy * 100:.2f}%')\n",
    "print(f\"Overall Accuracy: {accuracy * 100:.2f}%\")\n",
    "print(f\"Overall Precision: {precision * 100:.2f}%\")\n",
    "print(f\"Overall Recall: {recall * 100:.2f}%\")\n",
    "print(f\"Overall F1-Score: {f1 * 100:.2f}%\")\n",
    "\n",
    "for i, class_name in enumerate(train_df.columns[1:]):\n",
    "    print(f\"\\nClass: {class_name}\")\n",
    "    print(f\"  Precision: {class_precision[i] * 100:.2f}%\")\n",
    "    print(f\"  Recall: {class_recall[i] * 100:.2f}%\")\n",
    "    print(f\"  F1-Score: {class_f1[i] * 100:.2f}%\")\n"
   ]
  },
  {
   "cell_type": "code",
   "execution_count": 12,
   "metadata": {
    "colab": {
     "base_uri": "https://localhost:8080/",
     "height": 701
    },
    "id": "EPV9bJ00RvnA",
    "outputId": "521ada3c-cf9c-4454-a9bd-557b9a2158bf"
   },
   "outputs": [
    {
     "data": {
      "image/png": "[encoded data removed]",
      "text/plain": [
       "<Figure size 1000x800 with 2 Axes>"
      ]
     },
     "metadata": {},
     "output_type": "display_data"
    }
   ],
   "source": [
    "#confusion matrix\n",
    "from sklearn.metrics import confusion_matrix\n",
    "import seaborn as sns\n",
    "\n",
    "conf_mat = confusion_matrix(correct_labels, predicted_labels)\n",
    "plt.figure(figsize=(10,8))\n",
    "sns.heatmap(conf_mat, annot=True, fmt='d')\n",
    "plt.xlabel(\"Predicted labels\")\n",
    "plt.ylabel(\"True labels\")\n",
    "plt.show()"
   ]
  }
 ],
 "metadata": {
  "accelerator": "GPU",
  "colab": {
   "gpuType": "T4",
   "provenance": []
  },
  "kernelspec": {
   "display_name": "Python 3 (ipykernel)",
   "language": "python",
   "name": "python3"
  },
  "language_info": {
   "codemirror_mode": {
    "name": "ipython",
    "version": 3
   },
   "file_extension": ".py",
   "mimetype": "text/x-python",
   "name": "python",
   "nbconvert_exporter": "python",
   "pygments_lexer": "ipython3",
   "version": "3.12.3"
  }
 },
 "nbformat": 4,
 "nbformat_minor": 4
}
